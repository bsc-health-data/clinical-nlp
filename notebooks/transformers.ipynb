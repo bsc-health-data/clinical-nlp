{
 "cells": [
  {
   "cell_type": "code",
   "execution_count": 1,
   "metadata": {},
   "outputs": [],
   "source": [
    "# Use a pipeline as a high-level helper\n",
    "from transformers import pipeline"
   ]
  },
  {
   "cell_type": "code",
   "execution_count": 2,
   "metadata": {},
   "outputs": [
    {
     "data": {
      "application/vnd.jupyter.widget-view+json": {
       "model_id": "9ae1a1400fac46299dc4e33b09a0d8c2",
       "version_major": 2,
       "version_minor": 0
      },
      "text/plain": [
       "Downloading (…)\"config.json\";:   0%|          | 0.00/1.11k [00:00<?, ?B/s]"
      ]
     },
     "metadata": {},
     "output_type": "display_data"
    },
    {
     "data": {
      "application/vnd.jupyter.widget-view+json": {
       "model_id": "96086fa758a244009bf9ddfe2ed2e33b",
       "version_major": 2,
       "version_minor": 0
      },
      "text/plain": [
       "Downloading (…)\"pytorch_model.bin\";:   0%|          | 0.00/496M [00:00<?, ?B/s]"
      ]
     },
     "metadata": {},
     "output_type": "display_data"
    },
    {
     "data": {
      "application/vnd.jupyter.widget-view+json": {
       "model_id": "c9a8a3e1d61f4ac0ae6e05e48480e085",
       "version_major": 2,
       "version_minor": 0
      },
      "text/plain": [
       "Downloading (…)enizer_config.json\";:   0%|          | 0.00/1.16k [00:00<?, ?B/s]"
      ]
     },
     "metadata": {},
     "output_type": "display_data"
    },
    {
     "data": {
      "application/vnd.jupyter.widget-view+json": {
       "model_id": "41de2689500245888ffad1b5f251f3c0",
       "version_major": 2,
       "version_minor": 0
      },
      "text/plain": [
       "Downloading (…)\"vocab.json\";:   0%|          | 0.00/863k [00:00<?, ?B/s]"
      ]
     },
     "metadata": {},
     "output_type": "display_data"
    },
    {
     "data": {
      "application/vnd.jupyter.widget-view+json": {
       "model_id": "0a90eb708919423b962a953adeff0704",
       "version_major": 2,
       "version_minor": 0
      },
      "text/plain": [
       "Downloading (…)\"merges.txt\";:   0%|          | 0.00/521k [00:00<?, ?B/s]"
      ]
     },
     "metadata": {},
     "output_type": "display_data"
    },
    {
     "data": {
      "application/vnd.jupyter.widget-view+json": {
       "model_id": "818d882763204f7bbbd8c264fbe783bf",
       "version_major": 2,
       "version_minor": 0
      },
      "text/plain": [
       "Downloading (…)\"tokenizer.json\";:   0%|          | 0.00/2.24M [00:00<?, ?B/s]"
      ]
     },
     "metadata": {},
     "output_type": "display_data"
    },
    {
     "data": {
      "application/vnd.jupyter.widget-view+json": {
       "model_id": "cb5dcee4e0b14e06b15bbf8847dc03a3",
       "version_major": 2,
       "version_minor": 0
      },
      "text/plain": [
       "Downloading (…)al_tokens_map.json\";:   0%|          | 0.00/772 [00:00<?, ?B/s]"
      ]
     },
     "metadata": {},
     "output_type": "display_data"
    }
   ],
   "source": [
    "\n",
    "\n",
    "pipe = pipeline(\"token-classification\", model=\"lcampillos/roberta-es-clinical-trials-ner\")"
   ]
  },
  {
   "cell_type": "code",
   "execution_count": 3,
   "metadata": {},
   "outputs": [
    {
     "data": {
      "text/plain": [
       "[{'entity': 'B-CHEM',\n",
       "  'score': 0.9987173,\n",
       "  'index': 4,\n",
       "  'word': 'Ġaspirina',\n",
       "  'start': 17,\n",
       "  'end': 25},\n",
       " {'entity': 'B-DISO',\n",
       "  'score': 0.9987589,\n",
       "  'index': 7,\n",
       "  'word': 'Ġdolor',\n",
       "  'start': 34,\n",
       "  'end': 39},\n",
       " {'entity': 'I-DISO',\n",
       "  'score': 0.99854183,\n",
       "  'index': 8,\n",
       "  'word': 'Ġde',\n",
       "  'start': 40,\n",
       "  'end': 42},\n",
       " {'entity': 'I-DISO',\n",
       "  'score': 0.9985668,\n",
       "  'index': 9,\n",
       "  'word': 'Ġcabeza',\n",
       "  'start': 43,\n",
       "  'end': 49},\n",
       " {'entity': 'B-ANAT',\n",
       "  'score': 0.96309906,\n",
       "  'index': 13,\n",
       "  'word': 'Ġgarganta',\n",
       "  'start': 62,\n",
       "  'end': 70},\n",
       " {'entity': 'B-DISO',\n",
       "  'score': 0.99358493,\n",
       "  'index': 16,\n",
       "  'word': 'Ġduele',\n",
       "  'start': 82,\n",
       "  'end': 87},\n",
       " {'entity': 'I-DISO',\n",
       "  'score': 0.6120949,\n",
       "  'index': 17,\n",
       "  'word': 'Ġmucho',\n",
       "  'start': 88,\n",
       "  'end': 93}]"
      ]
     },
     "execution_count": 3,
     "metadata": {},
     "output_type": "execute_result"
    }
   ],
   "source": [
    "pipe.transform('El paciente toma aspirina para el dolor de cabeza y porque la garganta también le duele mucho.')"
   ]
  },
  {
   "cell_type": "code",
   "execution_count": null,
   "metadata": {},
   "outputs": [],
   "source": []
  }
 ],
 "metadata": {
  "kernelspec": {
   "display_name": "nlp",
   "language": "python",
   "name": "python3"
  },
  "language_info": {
   "codemirror_mode": {
    "name": "ipython",
    "version": 3
   },
   "file_extension": ".py",
   "mimetype": "text/x-python",
   "name": "python",
   "nbconvert_exporter": "python",
   "pygments_lexer": "ipython3",
   "version": "3.10.12"
  }
 },
 "nbformat": 4,
 "nbformat_minor": 2
}
